{
 "cells": [
  {
   "cell_type": "markdown",
   "metadata": {},
   "source": [
    "## UN High Commissioner for Refugees Data"
   ]
  },
  {
   "cell_type": "code",
   "execution_count": 8,
   "metadata": {},
   "outputs": [
    {
     "data": {
      "text/plain": [
       "'/Users/talentrics/Desktop/DataIncubator_proposal/Project_proposal_2020/Notebooks'"
      ]
     },
     "execution_count": 8,
     "metadata": {},
     "output_type": "execute_result"
    }
   ],
   "source": [
    "import numpy as np\n",
    "import pandas as pd\n",
    "import matplotlib.pyplot as plt\n",
    "from matplotlib.ticker import StrMethodFormatter\n",
    "import os\n",
    "cwd = os.getcwd()\n",
    "cwd"
   ]
  },
  {
   "cell_type": "code",
   "execution_count": 34,
   "metadata": {},
   "outputs": [
    {
     "name": "stdout",
     "output_type": "stream",
     "text": [
      "../data/All_refugee_2019_byCountry_UNHCR.csv\n"
     ]
    }
   ],
   "source": [
    "# Path \n",
    "path = \"/Users/talentrics/Desktop/DataIncubator_proposal/Project_proposal_2020/data/All_refugee_2019_byCountry_UNHCR.csv\"\n",
    "  \n",
    "# Path of Start directory \n",
    "start = \"/Users/talentrics/Desktop/DataIncubator_proposal/Project_proposal_2020/Notebooks\"\n",
    "  \n",
    "# Compute the relative file path \n",
    "# to the given path from the  \n",
    "# the given start directory. \n",
    "relative_path = os.path.relpath(path, start) \n",
    "  \n",
    "# Print the relative file path \n",
    "# to the given path from the  \n",
    "# the given start directory. \n",
    "print(relative_path) "
   ]
  },
  {
   "cell_type": "code",
   "execution_count": 35,
   "metadata": {},
   "outputs": [
    {
     "data": {
      "text/html": [
       "<div>\n",
       "<style scoped>\n",
       "    .dataframe tbody tr th:only-of-type {\n",
       "        vertical-align: middle;\n",
       "    }\n",
       "\n",
       "    .dataframe tbody tr th {\n",
       "        vertical-align: top;\n",
       "    }\n",
       "\n",
       "    .dataframe thead th {\n",
       "        text-align: right;\n",
       "    }\n",
       "</style>\n",
       "<table border=\"1\" class=\"dataframe\">\n",
       "  <thead>\n",
       "    <tr style=\"text-align: right;\">\n",
       "      <th></th>\n",
       "      <th>Year</th>\n",
       "      <th>Country_asylum</th>\n",
       "      <th>Country_asylum_iso</th>\n",
       "      <th>Region</th>\n",
       "      <th>sub_region</th>\n",
       "      <th>Female_workingAge</th>\n",
       "      <th>Male_workingAge</th>\n",
       "      <th>Total</th>\n",
       "    </tr>\n",
       "  </thead>\n",
       "  <tbody>\n",
       "    <tr>\n",
       "      <th>0</th>\n",
       "      <td>2019</td>\n",
       "      <td>Turkey</td>\n",
       "      <td>TUR</td>\n",
       "      <td>Asia</td>\n",
       "      <td>Western Asia</td>\n",
       "      <td>878241</td>\n",
       "      <td>1123000</td>\n",
       "      <td>2001241</td>\n",
       "    </tr>\n",
       "    <tr>\n",
       "      <th>1</th>\n",
       "      <td>2019</td>\n",
       "      <td>DR_of_Congo</td>\n",
       "      <td>COD</td>\n",
       "      <td>Africa</td>\n",
       "      <td>Sub-Saharan Africa</td>\n",
       "      <td>1061716</td>\n",
       "      <td>868522</td>\n",
       "      <td>1930238</td>\n",
       "    </tr>\n",
       "    <tr>\n",
       "      <th>2</th>\n",
       "      <td>2019</td>\n",
       "      <td>Yemen</td>\n",
       "      <td>YEM</td>\n",
       "      <td>Asia</td>\n",
       "      <td>Western Asia</td>\n",
       "      <td>877422</td>\n",
       "      <td>861312</td>\n",
       "      <td>1738734</td>\n",
       "    </tr>\n",
       "    <tr>\n",
       "      <th>3</th>\n",
       "      <td>2019</td>\n",
       "      <td>Afghanistan</td>\n",
       "      <td>AFG</td>\n",
       "      <td>Asia</td>\n",
       "      <td>Southern Asia</td>\n",
       "      <td>566050</td>\n",
       "      <td>566478</td>\n",
       "      <td>1132528</td>\n",
       "    </tr>\n",
       "    <tr>\n",
       "      <th>4</th>\n",
       "      <td>2019</td>\n",
       "      <td>Somalia</td>\n",
       "      <td>SOM</td>\n",
       "      <td>Africa</td>\n",
       "      <td>Sub-Saharan Africa</td>\n",
       "      <td>548170</td>\n",
       "      <td>484178</td>\n",
       "      <td>1032348</td>\n",
       "    </tr>\n",
       "    <tr>\n",
       "      <th>5</th>\n",
       "      <td>2019</td>\n",
       "      <td>Germany</td>\n",
       "      <td>DEU</td>\n",
       "      <td>Europe</td>\n",
       "      <td>Western Europe</td>\n",
       "      <td>317869</td>\n",
       "      <td>643124</td>\n",
       "      <td>960993</td>\n",
       "    </tr>\n",
       "    <tr>\n",
       "      <th>6</th>\n",
       "      <td>2019</td>\n",
       "      <td>Pakistan</td>\n",
       "      <td>PAK</td>\n",
       "      <td>Asia</td>\n",
       "      <td>Southern Asia</td>\n",
       "      <td>337671</td>\n",
       "      <td>402471</td>\n",
       "      <td>740142</td>\n",
       "    </tr>\n",
       "    <tr>\n",
       "      <th>7</th>\n",
       "      <td>2019</td>\n",
       "      <td>Uganda</td>\n",
       "      <td>UGA</td>\n",
       "      <td>Africa</td>\n",
       "      <td>Sub-Saharan Africa</td>\n",
       "      <td>279457</td>\n",
       "      <td>230540</td>\n",
       "      <td>509997</td>\n",
       "    </tr>\n",
       "    <tr>\n",
       "      <th>8</th>\n",
       "      <td>2019</td>\n",
       "      <td>Sudan</td>\n",
       "      <td>SDN</td>\n",
       "      <td>Africa</td>\n",
       "      <td>Northern Africa</td>\n",
       "      <td>256272</td>\n",
       "      <td>234817</td>\n",
       "      <td>491089</td>\n",
       "    </tr>\n",
       "    <tr>\n",
       "      <th>9</th>\n",
       "      <td>2019</td>\n",
       "      <td>Cote_d'Ivoire</td>\n",
       "      <td>CIV</td>\n",
       "      <td>Africa</td>\n",
       "      <td>Sub-Saharan Africa</td>\n",
       "      <td>241182</td>\n",
       "      <td>159050</td>\n",
       "      <td>400232</td>\n",
       "    </tr>\n",
       "    <tr>\n",
       "      <th>10</th>\n",
       "      <td>2019</td>\n",
       "      <td>Lebanon</td>\n",
       "      <td>LBN</td>\n",
       "      <td>Asia</td>\n",
       "      <td>Western Asia</td>\n",
       "      <td>221101</td>\n",
       "      <td>172396</td>\n",
       "      <td>393497</td>\n",
       "    </tr>\n",
       "    <tr>\n",
       "      <th>11</th>\n",
       "      <td>2019</td>\n",
       "      <td>Bangladesh</td>\n",
       "      <td>BGD</td>\n",
       "      <td>Asia</td>\n",
       "      <td>Southern Asia</td>\n",
       "      <td>203384</td>\n",
       "      <td>162273</td>\n",
       "      <td>365657</td>\n",
       "    </tr>\n",
       "    <tr>\n",
       "      <th>12</th>\n",
       "      <td>2019</td>\n",
       "      <td>Thailand</td>\n",
       "      <td>THA</td>\n",
       "      <td>Asia</td>\n",
       "      <td>South-eastern Asia</td>\n",
       "      <td>181204</td>\n",
       "      <td>179401</td>\n",
       "      <td>360605</td>\n",
       "    </tr>\n",
       "    <tr>\n",
       "      <th>13</th>\n",
       "      <td>2019</td>\n",
       "      <td>Jordan</td>\n",
       "      <td>JOR</td>\n",
       "      <td>Asia</td>\n",
       "      <td>Western Asia</td>\n",
       "      <td>176169</td>\n",
       "      <td>180814</td>\n",
       "      <td>356983</td>\n",
       "    </tr>\n",
       "    <tr>\n",
       "      <th>14</th>\n",
       "      <td>2019</td>\n",
       "      <td>Venezuela</td>\n",
       "      <td>VEN</td>\n",
       "      <td>Americas</td>\n",
       "      <td>Latin America and the Caribbean</td>\n",
       "      <td>181072</td>\n",
       "      <td>134516</td>\n",
       "      <td>315588</td>\n",
       "    </tr>\n",
       "  </tbody>\n",
       "</table>\n",
       "</div>"
      ],
      "text/plain": [
       "    Year Country_asylum Country_asylum_iso    Region  \\\n",
       "0   2019         Turkey                TUR      Asia   \n",
       "1   2019    DR_of_Congo                COD    Africa   \n",
       "2   2019          Yemen                YEM      Asia   \n",
       "3   2019    Afghanistan                AFG      Asia   \n",
       "4   2019        Somalia                SOM    Africa   \n",
       "5   2019        Germany                DEU    Europe   \n",
       "6   2019       Pakistan                PAK      Asia   \n",
       "7   2019         Uganda                UGA    Africa   \n",
       "8   2019          Sudan                SDN    Africa   \n",
       "9   2019  Cote_d'Ivoire                CIV    Africa   \n",
       "10  2019        Lebanon                LBN      Asia   \n",
       "11  2019     Bangladesh                BGD      Asia   \n",
       "12  2019       Thailand                THA      Asia   \n",
       "13  2019         Jordan                JOR      Asia   \n",
       "14  2019      Venezuela                VEN  Americas   \n",
       "\n",
       "                         sub_region  Female_workingAge  Male_workingAge  \\\n",
       "0                      Western Asia             878241          1123000   \n",
       "1                Sub-Saharan Africa            1061716           868522   \n",
       "2                      Western Asia             877422           861312   \n",
       "3                     Southern Asia             566050           566478   \n",
       "4                Sub-Saharan Africa             548170           484178   \n",
       "5                    Western Europe             317869           643124   \n",
       "6                     Southern Asia             337671           402471   \n",
       "7                Sub-Saharan Africa             279457           230540   \n",
       "8                   Northern Africa             256272           234817   \n",
       "9                Sub-Saharan Africa             241182           159050   \n",
       "10                     Western Asia             221101           172396   \n",
       "11                    Southern Asia             203384           162273   \n",
       "12               South-eastern Asia             181204           179401   \n",
       "13                     Western Asia             176169           180814   \n",
       "14  Latin America and the Caribbean             181072           134516   \n",
       "\n",
       "      Total  \n",
       "0   2001241  \n",
       "1   1930238  \n",
       "2   1738734  \n",
       "3   1132528  \n",
       "4   1032348  \n",
       "5    960993  \n",
       "6    740142  \n",
       "7    509997  \n",
       "8    491089  \n",
       "9    400232  \n",
       "10   393497  \n",
       "11   365657  \n",
       "12   360605  \n",
       "13   356983  \n",
       "14   315588  "
      ]
     },
     "execution_count": 35,
     "metadata": {},
     "output_type": "execute_result"
    }
   ],
   "source": [
    "df = pd.read_csv('../data/All_refugee_2019_byCountry_UNHCR.csv', sep = ',')\n",
    "top15 = df.head(15)\n",
    "top15"
   ]
  },
  {
   "cell_type": "code",
   "execution_count": 36,
   "metadata": {},
   "outputs": [
    {
     "data": {
      "text/plain": [
       "Year                   int64\n",
       "Country_asylum        object\n",
       "Country_asylum_iso    object\n",
       "Region                object\n",
       "sub_region            object\n",
       "Female_workingAge      int64\n",
       "Male_workingAge        int64\n",
       "Total                  int64\n",
       "dtype: object"
      ]
     },
     "execution_count": 36,
     "metadata": {},
     "output_type": "execute_result"
    }
   ],
   "source": [
    "df.dtypes"
   ]
  },
  {
   "cell_type": "code",
   "execution_count": 44,
   "metadata": {},
   "outputs": [
    {
     "data": {
      "text/plain": [
       "Text(0,0.5,'# of working age Refugees')"
      ]
     },
     "execution_count": 44,
     "metadata": {},
     "output_type": "execute_result"
    },
    {
     "data": {
      "image/png": "[encoded data removed]",
      "text/plain": [
       "<Figure size 432x288 with 1 Axes>"
      ]
     },
     "metadata": {},
     "output_type": "display_data"
    }
   ],
   "source": [
    "graph = plt.bar(top15.Country_asylum, height=top15.Total)\n",
    "plt.xticks(rotation=90, fontsize = 12)\n",
    "plt.xticks(fontsize = 12)\n",
    "plt.xlabel('Country of Asylum (top 15)', fontsize = 16)\n",
    "plt.ylabel('# of working age Refugees', fontsize = 16)"
   ]
  },
  {
   "cell_type": "code",
   "execution_count": null,
   "metadata": {},
   "outputs": [],
   "source": []
  }
 ],
 "metadata": {
  "kernelspec": {
   "display_name": "Python 3",
   "language": "python",
   "name": "python3"
  },
  "language_info": {
   "codemirror_mode": {
    "name": "ipython",
    "version": 3
   },
   "file_extension": ".py",
   "mimetype": "text/x-python",
   "name": "python",
   "nbconvert_exporter": "python",
   "pygments_lexer": "ipython3",
   "version": "3.6.5"
  }
 },
 "nbformat": 4,
 "nbformat_minor": 2
}
